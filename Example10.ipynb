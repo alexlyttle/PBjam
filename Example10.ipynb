{
 "cells": [
  {
   "cell_type": "code",
   "execution_count": 1,
   "metadata": {},
   "outputs": [],
   "source": [
    "import pbjam as pb\n",
    "from pbjam.jar import session\n",
    "import matplotlib.pyplot as plt\n",
    "import numpy as np\n",
    "import lightkurve as lk \n",
    "import sys\n",
    "import pandas as pd\n",
    "from tqdm import tqdm"
   ]
  },
  {
   "cell_type": "code",
   "execution_count": null,
   "metadata": {},
   "outputs": [],
   "source": [
    "df = pd.read_csv('pbjam/data/prior_data.csv')\n",
    "df = df[10:15]\n",
    "kics = [n for n in df.KIC]\n",
    "numaxs = [[n, err] for n, err in zip(df.numax, df.numax_err)]\n",
    "dnus = [[n, err] for n, err in zip(df.dnu, df.dnu_err)]\n",
    "teffs = [[n, err] for n, err in zip(df.Teff, df.Teff_err)]\n",
    "bp_rps = [[n, 0.1] for n in df.bp_rp]\n"
   ]
  },
  {
   "cell_type": "code",
   "execution_count": null,
   "metadata": {},
   "outputs": [],
   "source": [
    "# Initialize a jam session with a list of stars:\n",
    "jam_sess = session(ID = kics, numax = numaxs, dnu = dnus, teff = teffs, bp_rp = bp_rps, \n",
    "                   nthreads=1, use_cached=True)"
   ]
  },
  {
   "cell_type": "code",
   "execution_count": null,
   "metadata": {},
   "outputs": [],
   "source": [
    "for star in tqdm(jam_sess.stars):\n",
    "    star.asymptotic_modeid(norders = 9)"
   ]
  },
  {
   "cell_type": "code",
   "execution_count": null,
   "metadata": {},
   "outputs": [],
   "source": [
    "idx = 3\n",
    "print(jam_sess.stars[idx].asy_modeID)\n",
    "print(jam_sess.stars[idx].asy_bestfit)\n",
    "fig = jam_sess.stars[idx].plot_asyfit()"
   ]
  },
  {
   "cell_type": "code",
   "execution_count": null,
   "metadata": {},
   "outputs": [],
   "source": []
  }
 ],
 "metadata": {
  "kernelspec": {
   "display_name": "Python 3",
   "language": "python",
   "name": "python3"
  },
  "language_info": {
   "codemirror_mode": {
    "name": "ipython",
    "version": 3
   },
   "file_extension": ".py",
   "mimetype": "text/x-python",
   "name": "python",
   "nbconvert_exporter": "python",
   "pygments_lexer": "ipython3",
   "version": "3.6.4"
  }
 },
 "nbformat": 4,
 "nbformat_minor": 2
}
