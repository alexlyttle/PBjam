{
 "cells": [
  {
   "cell_type": "code",
   "execution_count": 1,
   "metadata": {},
   "outputs": [
    {
     "name": "stderr",
     "output_type": "stream",
     "text": [
      "/usr/local/Cellar/python3/3.6.4_2/Frameworks/Python.framework/Versions/3.6/lib/python3.6/site-packages/h5py/__init__.py:36: FutureWarning: Conversion of the second argument of issubdtype from `float` to `np.floating` is deprecated. In future, it will be treated as `np.float64 == np.dtype(float).type`.\n",
      "  from ._conv import register_converters as _register_converters\n"
     ]
    }
   ],
   "source": [
    "import pbjam as pb\n",
    "import pandas as pd\n",
    "import lightkurve as lk\n",
    "from tqdm import tqdm"
   ]
  },
  {
   "cell_type": "code",
   "execution_count": 2,
   "metadata": {},
   "outputs": [],
   "source": [
    "def get_lc(target):\n",
    "    lc_all = lk.search_lightcurvefile(target).download_all()\n",
    "    lc = lc_all.PDCSAP_FLUX.stitch().normalize().flatten(window_length=401).remove_outliers(4)\n",
    "    return lc\n",
    "\n",
    "def to_pg(lc, numax, dnu):\n",
    "    pg = lc.to_periodogram(normalization='psd', \n",
    "                           minimum_frequency=numax - 5.0*dnu,\n",
    "                           maximum_frequency=numax + 5.0*dnu).flatten()\n",
    "    return pg"
   ]
  },
  {
   "cell_type": "code",
   "execution_count": 3,
   "metadata": {},
   "outputs": [
    {
     "data": {
      "text/html": [
       "<div>\n",
       "<style scoped>\n",
       "    .dataframe tbody tr th:only-of-type {\n",
       "        vertical-align: middle;\n",
       "    }\n",
       "\n",
       "    .dataframe tbody tr th {\n",
       "        vertical-align: top;\n",
       "    }\n",
       "\n",
       "    .dataframe thead th {\n",
       "        text-align: right;\n",
       "    }\n",
       "</style>\n",
       "<table border=\"1\" class=\"dataframe\">\n",
       "  <thead>\n",
       "    <tr style=\"text-align: right;\">\n",
       "      <th></th>\n",
       "      <th>ID</th>\n",
       "      <th>dnu</th>\n",
       "      <th>dnu_err</th>\n",
       "      <th>numax</th>\n",
       "      <th>numax_err</th>\n",
       "      <th>teff</th>\n",
       "      <th>teff_err</th>\n",
       "      <th>bp_rp</th>\n",
       "      <th>bp_rp_err</th>\n",
       "    </tr>\n",
       "  </thead>\n",
       "  <tbody>\n",
       "    <tr>\n",
       "      <th>0</th>\n",
       "      <td>1433593</td>\n",
       "      <td>6.241</td>\n",
       "      <td>0.013</td>\n",
       "      <td>69.14</td>\n",
       "      <td>0.59</td>\n",
       "      <td>4956</td>\n",
       "      <td>100</td>\n",
       "      <td>1.327025</td>\n",
       "      <td>0.05</td>\n",
       "    </tr>\n",
       "    <tr>\n",
       "      <th>1</th>\n",
       "      <td>1433730</td>\n",
       "      <td>4.085</td>\n",
       "      <td>0.019</td>\n",
       "      <td>40.37</td>\n",
       "      <td>0.54</td>\n",
       "      <td>4767</td>\n",
       "      <td>100</td>\n",
       "      <td>1.424954</td>\n",
       "      <td>0.05</td>\n",
       "    </tr>\n",
       "    <tr>\n",
       "      <th>2</th>\n",
       "      <td>2018392</td>\n",
       "      <td>3.795</td>\n",
       "      <td>0.013</td>\n",
       "      <td>33.92</td>\n",
       "      <td>0.55</td>\n",
       "      <td>4908</td>\n",
       "      <td>100</td>\n",
       "      <td>1.417112</td>\n",
       "      <td>0.05</td>\n",
       "    </tr>\n",
       "    <tr>\n",
       "      <th>3</th>\n",
       "      <td>2140446</td>\n",
       "      <td>5.673</td>\n",
       "      <td>0.012</td>\n",
       "      <td>57.60</td>\n",
       "      <td>0.56</td>\n",
       "      <td>4665</td>\n",
       "      <td>100</td>\n",
       "      <td>1.446697</td>\n",
       "      <td>0.05</td>\n",
       "    </tr>\n",
       "    <tr>\n",
       "      <th>4</th>\n",
       "      <td>2307683</td>\n",
       "      <td>4.309</td>\n",
       "      <td>0.012</td>\n",
       "      <td>39.95</td>\n",
       "      <td>0.51</td>\n",
       "      <td>4799</td>\n",
       "      <td>100</td>\n",
       "      <td>1.369279</td>\n",
       "      <td>0.05</td>\n",
       "    </tr>\n",
       "  </tbody>\n",
       "</table>\n",
       "</div>"
      ],
      "text/plain": [
       "        ID    dnu  dnu_err  numax  numax_err  teff  teff_err     bp_rp  \\\n",
       "0  1433593  6.241    0.013  69.14       0.59  4956       100  1.327025   \n",
       "1  1433730  4.085    0.019  40.37       0.54  4767       100  1.424954   \n",
       "2  2018392  3.795    0.013  33.92       0.55  4908       100  1.417112   \n",
       "3  2140446  5.673    0.012  57.60       0.56  4665       100  1.446697   \n",
       "4  2307683  4.309    0.012  39.95       0.51  4799       100  1.369279   \n",
       "\n",
       "   bp_rp_err  \n",
       "0       0.05  \n",
       "1       0.05  \n",
       "2       0.05  \n",
       "3       0.05  \n",
       "4       0.05  "
      ]
     },
     "execution_count": 3,
     "metadata": {},
     "output_type": "execute_result"
    }
   ],
   "source": [
    "df = pd.read_csv('mytgts.csv')\n",
    "df.head()"
   ]
  },
  {
   "cell_type": "code",
   "execution_count": 4,
   "metadata": {},
   "outputs": [
    {
     "name": "stdout",
     "output_type": "stream",
     "text": [
      "........."
     ]
    }
   ],
   "source": [
    "lcs = {}\n",
    "for idx, row in df.iterrows():\n",
    "    print('.', end='')\n",
    "    ID = str(int(row.ID))\n",
    "    lcs[ID] = get_lc(ID)"
   ]
  },
  {
   "cell_type": "code",
   "execution_count": 5,
   "metadata": {},
   "outputs": [
    {
     "name": "stderr",
     "output_type": "stream",
     "text": [
      "/Users/davies/Library/Python/3.6/lib/python/site-packages/lightkurve/periodogram.py:752: LightkurveWarning: Input light curve will be normalized.\n",
      "  LightkurveWarning)\n"
     ]
    }
   ],
   "source": [
    "pgs = {}\n",
    "for idx, row in df.iterrows():\n",
    "    ID = str(int(row.ID))\n",
    "    pgs[ID] = to_pg(lcs[ID], row.numax, row.dnu)"
   ]
  },
  {
   "cell_type": "code",
   "execution_count": null,
   "metadata": {},
   "outputs": [],
   "source": [
    "stars = {}\n",
    "for idx, row in df.iterrows():\n",
    "    ID = str(int(row.ID))\n",
    "    star = pb.star(ID, pgs[ID], \n",
    "                       [row.numax, row.numax_err], \n",
    "                       [row.dnu, row.dnu_err], \n",
    "                       [row.teff, row.teff_err],\n",
    "                       [row.bp_rp, row.bp_rp_err], \n",
    "                       store_chains=True, \n",
    "                       nthreads=4)\n",
    "    stars[ID] = star"
   ]
  },
  {
   "cell_type": "code",
   "execution_count": null,
   "metadata": {},
   "outputs": [
    {
     "name": "stderr",
     "output_type": "stream",
     "text": [
      " 14%|█▎        | 2700/20000 [00:45<04:51, 59.35it/s]\n",
      " 10%|█         | 2100/20000 [00:34<04:54, 60.81it/s]\n",
      " 18%|█▊        | 3600/20000 [01:02<04:03, 67.34it/s]\n",
      " 10%|█         | 2000/20000 [00:35<05:19, 56.33it/s]\n",
      " 12%|█▎        | 2500/20000 [00:40<04:46, 61.04it/s]\n",
      " 12%|█▏        | 2338/20000 [00:38<04:48, 61.13it/s]"
     ]
    }
   ],
   "source": [
    "for idx, row in df.iterrows():\n",
    "    ID = str(int(row.ID))\n",
    "    stars[ID].run_epsilon()\n",
    "    stars[ID].epsilon.plot(pgs[ID])"
   ]
  },
  {
   "cell_type": "code",
   "execution_count": null,
   "metadata": {},
   "outputs": [],
   "source": []
  }
 ],
 "metadata": {
  "kernelspec": {
   "display_name": "Python 3",
   "language": "python",
   "name": "python3"
  },
  "language_info": {
   "codemirror_mode": {
    "name": "ipython",
    "version": 3
   },
   "file_extension": ".py",
   "mimetype": "text/x-python",
   "name": "python",
   "nbconvert_exporter": "python",
   "pygments_lexer": "ipython3",
   "version": "3.6.4"
  }
 },
 "nbformat": 4,
 "nbformat_minor": 2
}
