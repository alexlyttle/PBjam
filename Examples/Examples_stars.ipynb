{
 "cells": [
  {
   "cell_type": "code",
   "execution_count": 1,
   "metadata": {},
   "outputs": [
    {
     "name": "stderr",
     "output_type": "stream",
     "text": [
      "/usr/local/Cellar/python3/3.6.4_2/Frameworks/Python.framework/Versions/3.6/lib/python3.6/site-packages/h5py/__init__.py:36: FutureWarning: Conversion of the second argument of issubdtype from `float` to `np.floating` is deprecated. In future, it will be treated as `np.float64 == np.dtype(float).type`.\n",
      "  from ._conv import register_converters as _register_converters\n"
     ]
    }
   ],
   "source": [
    "import pbjam as pb\n",
    "import pandas as pd\n",
    "import lightkurve as lk\n",
    "from tqdm import tqdm"
   ]
  },
  {
   "cell_type": "code",
   "execution_count": 2,
   "metadata": {},
   "outputs": [],
   "source": [
    "def get_lc(target):\n",
    "    lc_all = lk.search_lightcurvefile(target).download_all()\n",
    "    lc = lc_all[0].PDCSAP_FLUX.normalize().remove_outliers().flatten()\n",
    "    for lcx in lc_all[1:]:\n",
    "        lc = lc.append(lcx.PDCSAP_FLUX.normalize().remove_outliers().flatten())\n",
    "    lc = lc.remove_outliers(4)\n",
    "    return lc\n",
    "\n",
    "def to_pg(lc, numax, dnu):\n",
    "    pg = lc.to_periodogram(normalization='psd', \n",
    "                           minimum_frequency=numax - 3.0*dnu,\n",
    "                           maximum_frequency=numax + 3.0*dnu).flatten()\n",
    "    return pg"
   ]
  },
  {
   "cell_type": "code",
   "execution_count": 3,
   "metadata": {},
   "outputs": [
    {
     "data": {
      "text/html": [
       "<div>\n",
       "<style scoped>\n",
       "    .dataframe tbody tr th:only-of-type {\n",
       "        vertical-align: middle;\n",
       "    }\n",
       "\n",
       "    .dataframe tbody tr th {\n",
       "        vertical-align: top;\n",
       "    }\n",
       "\n",
       "    .dataframe thead th {\n",
       "        text-align: right;\n",
       "    }\n",
       "</style>\n",
       "<table border=\"1\" class=\"dataframe\">\n",
       "  <thead>\n",
       "    <tr style=\"text-align: right;\">\n",
       "      <th></th>\n",
       "      <th>ID</th>\n",
       "      <th>dnu</th>\n",
       "      <th>dnu_err</th>\n",
       "      <th>numax</th>\n",
       "      <th>numax_err</th>\n",
       "      <th>teff</th>\n",
       "      <th>teff_err</th>\n",
       "      <th>bp_rp</th>\n",
       "      <th>bp_rp_err</th>\n",
       "    </tr>\n",
       "  </thead>\n",
       "  <tbody>\n",
       "    <tr>\n",
       "      <th>0</th>\n",
       "      <td>1433593</td>\n",
       "      <td>6.241</td>\n",
       "      <td>0.013</td>\n",
       "      <td>69.14</td>\n",
       "      <td>0.59</td>\n",
       "      <td>4956</td>\n",
       "      <td>100</td>\n",
       "      <td>1.327025</td>\n",
       "      <td>0.05</td>\n",
       "    </tr>\n",
       "    <tr>\n",
       "      <th>1</th>\n",
       "      <td>1433730</td>\n",
       "      <td>4.085</td>\n",
       "      <td>0.019</td>\n",
       "      <td>40.37</td>\n",
       "      <td>0.54</td>\n",
       "      <td>4767</td>\n",
       "      <td>100</td>\n",
       "      <td>1.424954</td>\n",
       "      <td>0.05</td>\n",
       "    </tr>\n",
       "    <tr>\n",
       "      <th>2</th>\n",
       "      <td>2018392</td>\n",
       "      <td>3.795</td>\n",
       "      <td>0.013</td>\n",
       "      <td>33.92</td>\n",
       "      <td>0.55</td>\n",
       "      <td>4908</td>\n",
       "      <td>100</td>\n",
       "      <td>1.417112</td>\n",
       "      <td>0.05</td>\n",
       "    </tr>\n",
       "    <tr>\n",
       "      <th>3</th>\n",
       "      <td>2140446</td>\n",
       "      <td>5.673</td>\n",
       "      <td>0.012</td>\n",
       "      <td>57.60</td>\n",
       "      <td>0.56</td>\n",
       "      <td>4665</td>\n",
       "      <td>100</td>\n",
       "      <td>1.446697</td>\n",
       "      <td>0.05</td>\n",
       "    </tr>\n",
       "    <tr>\n",
       "      <th>4</th>\n",
       "      <td>2307683</td>\n",
       "      <td>4.309</td>\n",
       "      <td>0.012</td>\n",
       "      <td>39.95</td>\n",
       "      <td>0.51</td>\n",
       "      <td>4799</td>\n",
       "      <td>100</td>\n",
       "      <td>1.369279</td>\n",
       "      <td>0.05</td>\n",
       "    </tr>\n",
       "  </tbody>\n",
       "</table>\n",
       "</div>"
      ],
      "text/plain": [
       "        ID    dnu  dnu_err  numax  numax_err  teff  teff_err     bp_rp  \\\n",
       "0  1433593  6.241    0.013  69.14       0.59  4956       100  1.327025   \n",
       "1  1433730  4.085    0.019  40.37       0.54  4767       100  1.424954   \n",
       "2  2018392  3.795    0.013  33.92       0.55  4908       100  1.417112   \n",
       "3  2140446  5.673    0.012  57.60       0.56  4665       100  1.446697   \n",
       "4  2307683  4.309    0.012  39.95       0.51  4799       100  1.369279   \n",
       "\n",
       "   bp_rp_err  \n",
       "0       0.05  \n",
       "1       0.05  \n",
       "2       0.05  \n",
       "3       0.05  \n",
       "4       0.05  "
      ]
     },
     "execution_count": 3,
     "metadata": {},
     "output_type": "execute_result"
    }
   ],
   "source": [
    "df = pd.read_csv('mytgts.csv')\n",
    "df.head()"
   ]
  },
  {
   "cell_type": "code",
   "execution_count": 4,
   "metadata": {},
   "outputs": [
    {
     "name": "stdout",
     "output_type": "stream",
     "text": [
      "........."
     ]
    }
   ],
   "source": [
    "lcs = {}\n",
    "for idx, row in df.iterrows():\n",
    "    print('.', end='')\n",
    "    ID = str(int(row.ID))\n",
    "    lcs[ID] = get_lc(ID)"
   ]
  },
  {
   "cell_type": "code",
   "execution_count": 5,
   "metadata": {},
   "outputs": [],
   "source": [
    "pgs = {}\n",
    "for idx, row in df.iterrows():\n",
    "    ID = str(int(row.ID))\n",
    "    pgs[ID] = to_pg(lcs[ID], row.numax, row.dnu)"
   ]
  },
  {
   "cell_type": "code",
   "execution_count": null,
   "metadata": {},
   "outputs": [],
   "source": [
    "stars = {}\n",
    "for idx, row in df.iterrows():\n",
    "    ID = str(int(row.ID))\n",
    "    star = pb.jar.star(ID, pgs[ID].frequency.value, pgs[ID].power.value, \n",
    "                       [row.numax, row.numax_err], \n",
    "                       [row.dnu, row.dnu_err], \n",
    "                       [row.teff, row.teff_err],\n",
    "                       [row.bp_rp, row.bp_rp_err], \n",
    "                       store_chains=True, \n",
    "                       nthreads=4)\n",
    "    stars[ID] = star"
   ]
  },
  {
   "cell_type": "code",
   "execution_count": null,
   "metadata": {},
   "outputs": [
    {
     "name": "stderr",
     "output_type": "stream",
     "text": [
      "Auto-assigning NUTS sampler...\n",
      "Initializing NUTS using jitter+adapt_diag...\n",
      "Multiprocess sampling (4 chains in 4 jobs)\n",
      "NUTS: [back, height2, height0, width2, width0, l2, l0]\n",
      "Sampling 4 chains: 100%|██████████| 8000/8000 [00:22<00:00, 361.99draws/s]\n",
      "Auto-assigning NUTS sampler...\n",
      "Initializing NUTS using jitter+adapt_diag...\n",
      "Multiprocess sampling (4 chains in 4 jobs)\n",
      "NUTS: [back, height2, height0, width2, width0, l2, l0]\n",
      "Sampling 4 chains: 100%|██████████| 8000/8000 [00:19<00:00, 411.67draws/s]\n",
      "Auto-assigning NUTS sampler...\n",
      "Initializing NUTS using jitter+adapt_diag...\n",
      "Multiprocess sampling (4 chains in 4 jobs)\n",
      "NUTS: [back, height2, height0, width2, width0, l2, l0]\n",
      "Sampling 4 chains: 100%|██████████| 8000/8000 [00:19<00:00, 407.68draws/s]\n",
      "The estimated number of effective samples is smaller than 200 for some parameters.\n",
      "Auto-assigning NUTS sampler...\n",
      "Initializing NUTS using jitter+adapt_diag...\n",
      "Multiprocess sampling (4 chains in 4 jobs)\n",
      "NUTS: [back, height2, height0, width2, width0, l2, l0]\n",
      "Sampling 4 chains: 100%|██████████| 8000/8000 [01:14<00:00, 106.94draws/s]\n",
      "There were 10 divergences after tuning. Increase `target_accept` or reparameterize.\n",
      "The acceptance probability does not match the target. It is 0.6300100134325889, but should be close to 0.8. Try to increase the number of tuning steps.\n",
      "There were 5 divergences after tuning. Increase `target_accept` or reparameterize.\n",
      "The acceptance probability does not match the target. It is 0.47275786254495666, but should be close to 0.8. Try to increase the number of tuning steps.\n",
      "The acceptance probability does not match the target. It is 0.9195388430290549, but should be close to 0.8. Try to increase the number of tuning steps.\n",
      "There were 10 divergences after tuning. Increase `target_accept` or reparameterize.\n",
      "The gelman-rubin statistic is larger than 1.2 for some parameters.\n",
      "The estimated number of effective samples is smaller than 200 for some parameters.\n",
      "Auto-assigning NUTS sampler...\n",
      "Initializing NUTS using jitter+adapt_diag...\n",
      "Multiprocess sampling (4 chains in 4 jobs)\n",
      "NUTS: [back, height2, height0, width2, width0, l2, l0]\n",
      "Sampling 4 chains: 100%|██████████| 8000/8000 [01:58<00:00, 67.55draws/s] \n",
      "There were 3 divergences after tuning. Increase `target_accept` or reparameterize.\n",
      "The acceptance probability does not match the target. It is 0.21662958680974012, but should be close to 0.8. Try to increase the number of tuning steps.\n",
      "The acceptance probability does not match the target. It is 0.9224627653667324, but should be close to 0.8. Try to increase the number of tuning steps.\n",
      "There were 4 divergences after tuning. Increase `target_accept` or reparameterize.\n",
      "The acceptance probability does not match the target. It is 0.6557472178732794, but should be close to 0.8. Try to increase the number of tuning steps.\n",
      "The gelman-rubin statistic is larger than 1.4 for some parameters. The sampler did not converge.\n",
      "The estimated number of effective samples is smaller than 200 for some parameters.\n",
      "Auto-assigning NUTS sampler...\n",
      "Initializing NUTS using jitter+adapt_diag...\n",
      "Multiprocess sampling (4 chains in 4 jobs)\n",
      "NUTS: [back, height2, height0, width2, width0, l2, l0]\n",
      "Sampling 4 chains: 100%|██████████| 8000/8000 [00:33<00:00, 240.78draws/s]\n",
      "The acceptance probability does not match the target. It is 0.926032110355416, but should be close to 0.8. Try to increase the number of tuning steps.\n",
      "The gelman-rubin statistic is larger than 1.4 for some parameters. The sampler did not converge.\n",
      "The estimated number of effective samples is smaller than 200 for some parameters.\n",
      "Auto-assigning NUTS sampler...\n",
      "Initializing NUTS using jitter+adapt_diag...\n",
      "Multiprocess sampling (4 chains in 4 jobs)\n",
      "NUTS: [back, height2, height0, width2, width0, l2, l0]\n",
      "Sampling 4 chains: 100%|██████████| 8000/8000 [02:40<00:00, 29.31draws/s] \n",
      "The acceptance probability does not match the target. It is 0.7145055618683673, but should be close to 0.8. Try to increase the number of tuning steps.\n",
      "There were 3 divergences after tuning. Increase `target_accept` or reparameterize.\n",
      "The acceptance probability does not match the target. It is 0.264950512688368, but should be close to 0.8. Try to increase the number of tuning steps.\n",
      "There were 6 divergences after tuning. Increase `target_accept` or reparameterize.\n",
      "The acceptance probability does not match the target. It is 0.9160321585890355, but should be close to 0.8. Try to increase the number of tuning steps.\n",
      "The gelman-rubin statistic is larger than 1.05 for some parameters. This indicates slight problems during sampling.\n",
      "The estimated number of effective samples is smaller than 200 for some parameters.\n",
      "Auto-assigning NUTS sampler...\n",
      "Initializing NUTS using jitter+adapt_diag...\n",
      "Multiprocess sampling (4 chains in 4 jobs)\n",
      "NUTS: [back, height2, height0, width2, width0, l2, l0]\n",
      "Sampling 4 chains:  94%|█████████▍| 7530/8000 [00:24<00:01, 435.14draws/s]"
     ]
    }
   ],
   "source": [
    "for idx, row in df.iterrows():\n",
    "    ID = str(int(row.ID))\n",
    "    stars[ID].run_epsilon()\n",
    "    stars[ID].run_asy_peakbag(norders=5)\n",
    "    stars[ID].run_peakbag()\n",
    "    stars[ID].peakbag.plot_fit(thin=10)"
   ]
  },
  {
   "cell_type": "code",
   "execution_count": null,
   "metadata": {},
   "outputs": [],
   "source": []
  }
 ],
 "metadata": {
  "kernelspec": {
   "display_name": "Python 3",
   "language": "python",
   "name": "python3"
  },
  "language_info": {
   "codemirror_mode": {
    "name": "ipython",
    "version": 3
   },
   "file_extension": ".py",
   "mimetype": "text/x-python",
   "name": "python",
   "nbconvert_exporter": "python",
   "pygments_lexer": "ipython3",
   "version": "3.6.4"
  }
 },
 "nbformat": 4,
 "nbformat_minor": 2
}
