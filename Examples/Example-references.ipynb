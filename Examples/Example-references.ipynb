{
 "cells": [
  {
   "cell_type": "markdown",
   "metadata": {},
   "source": [
    "# Listing your references with PBjam\n",
    "This tutorial will show you how to get PBjam to list the publications you have made use of when using the different parts of PBjam.\n",
    "\n",
    "Below we will use [session](https://pbjam.readthedocs.io/en/latest/session.html#pbjam.session.session) as an example, but the same methods apply to the [star](https://pbjam.readthedocs.io/en/latest/star.html#pbjam.star.star) class.\n",
    "\n",
    "When initializing a list of references will automatically be compiled for the setup part of the run. This list will be updated during your the run, depending on which parts of PBjam you use."
   ]
  },
  {
   "cell_type": "code",
   "execution_count": 1,
   "metadata": {},
   "outputs": [
    {
     "name": "stdout",
     "output_type": "stream",
     "text": [
      "Checkpoint exception raise\n"
     ]
    },
    {
     "name": "stderr",
     "output_type": "stream",
     "text": [
      "2020-07-24, 01:33:18 - theano.tensor.blas: Using NumPy C-API based implementation for BLAS functions.\n",
      "2020-07-24, 01:33:18 - theano.tensor.blas: Using NumPy C-API based implementation for BLAS functions.\n"
     ]
    }
   ],
   "source": [
    "import pbjam as pb\n",
    "sess = pb.session(ID='KIC4448777', \n",
    "                  numax=(220.0, 3.0), \n",
    "                  dnu=(16.97, 0.05), \n",
    "                  teff=(4750, 250), \n",
    "                  bp_rp=(1.34, 0.1),\n",
    "                  path = '.')"
   ]
  },
  {
   "cell_type": "markdown",
   "metadata": {},
   "source": [
    "The references list in bibtex format can then be retrieved by using the references method. You can specify a optionally specify file to print the result to by using the bibfile argument."
   ]
  },
  {
   "cell_type": "code",
   "execution_count": 2,
   "metadata": {},
   "outputs": [
    {
     "name": "stdout",
     "output_type": "stream",
     "text": [
      "References used in this run.\n",
      "@book{python1995, \n",
      "  title={Python tutorial}, \n",
      "  author={Van Rossum, Guido and Drake Jr, Fred L}, \n",
      "  year={1995}, \n",
      "  publisher={Centrum voor Wiskunde en Informatica Amsterdam, The Netherlands} \n",
      "}\n"
     ]
    }
   ],
   "source": [
    "sess.references(bibfile = 'myfile.bib')"
   ]
  },
  {
   "cell_type": "markdown",
   "metadata": {},
   "source": [
    "This list only contains the basic packages that PBjam uses when initializing the class (and Python itself of course).\n",
    "\n",
    "Now lets populate the list some more using by completing the peakbagging run."
   ]
  },
  {
   "cell_type": "code",
   "execution_count": 4,
   "metadata": {},
   "outputs": [
    {
     "name": "stdout",
     "output_type": "stream",
     "text": [
      "Starting KDE estimation\n"
     ]
    },
    {
     "name": "stderr",
     "output_type": "stream",
     "text": [
      "/home/nielsemb/work/repos/PBjam/pbjam/priors.py:151: UserWarning: Only 61 star(s) near provided numax. Trying to expand the range to include ~100 stars.\n",
      "  f'Trying to expand the range to include ~{KDEsize} stars.')\n"
     ]
    },
    {
     "name": "stdout",
     "output_type": "stream",
     "text": [
      "Steps taken: 2000\n",
      "Steps taken: 3000\n",
      "Steps taken: 4000\n",
      "Steps taken: 5000\n",
      "Chains reached stationary state after 5000 iterations.\n",
      "Starting asymptotic peakbagging\n",
      "Steps taken: 2000\n",
      "Chains reached stationary state after 2000 iterations.\n",
      "Starting peakbagging\n"
     ]
    },
    {
     "name": "stderr",
     "output_type": "stream",
     "text": [
      "2020-07-24, 01:39:12 - pymc3   : Auto-assigning NUTS sampler...\n",
      "2020-07-24, 01:39:12 - pymc3   : Initializing NUTS using adapt_diag...\n",
      "2020-07-24, 01:39:18 - pymc3   : Sequential sampling (2 chains in 1 job)\n",
      "2020-07-24, 01:39:18 - pymc3   : NUTS: [back, height2, height0, l2, l0, width2, width0]\n"
     ]
    }
   ],
   "source": [
    "sess(norders=7)"
   ]
  },
  {
   "cell_type": "code",
   "execution_count": 5,
   "metadata": {},
   "outputs": [
    {
     "name": "stdout",
     "output_type": "stream",
     "text": [
      "References used in this run.\n",
      "@ARTICLE{Evans2018,\n",
      "       author = {{Evans}, D.~W. and {Riello}, M. and {De Angeli}, F. and\n",
      "         {Carrasco}, J.~M. and {Montegriffo}, P. and {Fabricius}, C. and\n",
      "         {Jordi}, C. and {Palaversa}, L. and {Diener}, C. and {Busso}, G. and\n",
      "         {Cacciari}, C. and {van Leeuwen}, F. and {Burgess}, P.~W. and\n",
      "         {Davidson}, M. and {Harrison}, D.~L. and {Hodgkin}, S.~T. and\n",
      "         {Pancino}, E. and {Richards}, P.~J. and {Altavilla}, G. and\n",
      "         {Balaguer-N{\\'u}{\\~n}ez}, L. and {Barstow}, M.~A. and {Bellazzini}, M. and\n",
      "         {Brown}, A.~G.~A. and {Castellani}, M. and {Cocozza}, G. and\n",
      "         {De Luise}, F. and {Delgado}, A. and {Ducourant}, C. and {Galleti}, S. and\n",
      "         {Gilmore}, G. and {Giuffrida}, G. and {Holl}, B. and {Kewley}, A. and\n",
      "         {Koposov}, S.~E. and {Marinoni}, S. and {Marrese}, P.~M. and\n",
      "         {Osborne}, P.~J. and {Piersimoni}, A. and {Portell}, J. and\n",
      "         {Pulone}, L. and {Ragaini}, S. and {Sanna}, N. and {Terrett}, D. and\n",
      "         {Walton}, N.~A. and {Wevers}, T. and {Wyrzykowski}, {\\L}.},\n",
      "        title = \"{Gaia Data Release 2. Photometric content and validation}\",\n",
      "      journal = {\\aap},\n",
      "     keywords = {catalogs, surveys, instrumentation: photometers, techniques: photometric, galaxies: general, Astrophysics - Instrumentation and Methods for Astrophysics},\n",
      "         year = 2018,\n",
      "        month = aug,\n",
      "       volume = {616},\n",
      "          eid = {A4},\n",
      "        pages = {A4},\n",
      "          doi = {10.1051/0004-6361/201832756},\n",
      "archivePrefix = {arXiv},\n",
      "       eprint = {1804.09368},\n",
      " primaryClass = {astro-ph.IM},\n",
      "       adsurl = {https://ui.adsabs.harvard.edu/abs/2018A&A...616A...4E},\n",
      "      adsnote = {Provided by the SAO/NASA Astrophysics Data System}\n",
      "}\n",
      "\n",
      "@book{Oliphant2006, \n",
      "  title={A guide to NumPy}, \n",
      "  author={Oliphant, Travis E}, \n",
      "  volume={1}, \n",
      "  year={2006}, \n",
      "  publisher={Trelgol Publishing USA} \n",
      "}\n",
      "\n",
      "@book{python1995, \n",
      "  title={Python tutorial}, \n",
      "  author={Van Rossum, Guido and Drake Jr, Fred L}, \n",
      "  year={1995}, \n",
      "  publisher={Centrum voor Wiskunde en Informatica Amsterdam, The Netherlands} \n",
      "}\n"
     ]
    }
   ],
   "source": [
    "sess.references()"
   ]
  }
 ],
 "metadata": {
  "kernelspec": {
   "display_name": "Python 3",
   "language": "python",
   "name": "python3"
  },
  "language_info": {
   "codemirror_mode": {
    "name": "ipython",
    "version": 3
   },
   "file_extension": ".py",
   "mimetype": "text/x-python",
   "name": "python",
   "nbconvert_exporter": "python",
   "pygments_lexer": "ipython3",
   "version": "3.7.5"
  }
 },
 "nbformat": 4,
 "nbformat_minor": 4
}
