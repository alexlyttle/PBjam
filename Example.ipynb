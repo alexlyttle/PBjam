{
 "cells": [
  {
   "cell_type": "code",
   "execution_count": 1,
   "metadata": {},
   "outputs": [],
   "source": [
    "import pbjam as pb\n",
    "from pbjam.jar import session\n",
    "import matplotlib.pyplot as plt\n",
    "import numpy as np\n",
    "import lightkurve as lk \n",
    "import sys"
   ]
  },
  {
   "cell_type": "code",
   "execution_count": 2,
   "metadata": {},
   "outputs": [],
   "source": [
    "kic = '4448777'\n",
    "numax = [220.0, 3.0]\n",
    "dnu = [16.97, 0.01]\n",
    "teff = [4750, 100]\n",
    "bp_rp = [1.34, 0.01]"
   ]
  },
  {
   "cell_type": "code",
   "execution_count": 3,
   "metadata": {},
   "outputs": [
    {
     "name": "stdout",
     "output_type": "stream",
     "text": [
      "{'cadence': [None, None], 'month': [None, None], 'quarter': [None, None], 'campaign': [None, None], 'sector': [None, None]}\n"
     ]
    }
   ],
   "source": [
    "# Initialize a jam session with a single star:\n",
    "#jam_sess = session(ID = [kic], numax = [numax], dnu = [dnu], teff = [teff], bp_rp = [bp_rp])\n",
    "#jam_sess = session(ID = [kic], numax = [numax], dnu = [dnu], teff = [teff], bp_rp = [bp_rp], kwargs = {'quarter': [5]})\n",
    "\n",
    "# with more than one star:\n",
    "jam_sess = session(ID = [kic,kic], numax = [numax,numax], dnu = [dnu,dnu], bp_rp = [bp_rp,bp_rp], teff = [teff,teff])\n",
    "\n",
    "\n",
    "# # with own timeseries:\n",
    "# time,flux = np.genfromtxt('Examples/mypsd.asciifile').T\n",
    "# jam_sess = session(ID = [kic], numax = [numax], dnu = [dnu], \n",
    "#                    teff = [teff], bp_rp = [bp_rp], timeseries = [(time,flux)])\n",
    "\n",
    "# jam_sess = session(ID = [kic,kic], numax = [numax,numax], dnu = [dnu,dnu], \n",
    "#                    teff = [teff,teff], bp_rp = [bp_rp,bp_rp], timeseries = [(time,flux),(time,flux)])\n",
    "\n",
    "# # in ascii format\n",
    "# jam_sess = session(ID = [kic], numax = [numax], dnu = [dnu], teff = [teff], timeseries = ['Examples/myts.asciifile'])\n",
    "# jam_sess = session(ID = [kic,kic], numax = [numax,numax], dnu = [dnu,dnu], \n",
    "#                    teff = [teff,teff], bp_rp = [bp_rp,bp_rp], timeseries = ['Examples/myts.asciifile','Examples/myts.asciifile'])\n",
    "\n",
    "# # in lightkurve format\n",
    "# lc = lk.search_lightcurvefile(target=kic, quarter=5, cadence = 'long').download().PDCSAP_FLUX\n",
    "# lc = lc.remove_nans().remove_outliers().flatten().normalize()\n",
    "# jam_sess = session(ID = [kic], numax = [numax], dnu = [dnu], teff = [teff], timeseries = [lc])\n",
    "# jam_sess = session(ID = [kic,kic], numax = [numax,numax], dnu = [dnu,dnu], \n",
    "#                    teff = [teff,teff], bp_rp = [bp_rp,bp_rp], timeseries = [lc,lc])\n",
    "\n",
    "\n",
    "# # with own powerspectrum:\n",
    "# freq, power = np.genfromtxt('Examples/mypsd.asciifile').T\n",
    "# jam_sess = session(ID = [kic], numax = [numax],dnu = [dnu], teff = [teff], psd = [(freq, power)])\n",
    "# jam_sess = session(ID = [kic,kic], numax = [numax,numax], dnu = [dnu,dnu], \n",
    "#                    teff = [teff,teff], bp_rp = [bp_rp,bp_rp], psd = [(freq, power),(freq, power)])\n",
    "\n",
    "# # in ascii format:\n",
    "# jam_sess = session(ID = [kic], numax = [numax], dnu = [dnu], teff = [teff], psd = ['Examples/mypsd.asciifile'])\n",
    "# jam_sess = session(ID = [kic,kic], numax = [numax,numax], dnu = [dnu,dnu], \n",
    "#                    teff = [teff,teff], bp_rp = [bp_rp,bp_rp], psd = ['Examples/mypsd.asciifile','Examples/mypsd.asciifile'])\n",
    "\n",
    "# # in lightkurve format\n",
    "# time, flux = np.array(lc.time), np.array(lc.flux)\n",
    "# pg = lk.LightCurve(time, flux).to_periodogram(normalization='psd').flatten()\n",
    "# jam_sess = session(ID = [kic], numax = [numax], dnu = [dnu], teff = [teff], psd = [pg])\n",
    "# jam_sess = session(ID = [kic,kic], numax = [numax,numax], dnu = [dnu,dnu], \n",
    "#                    teff = [teff,teff], bp_rp = [bp_rp,bp_rp], psd = [pg,pg])"
   ]
  },
  {
   "cell_type": "code",
   "execution_count": 4,
   "metadata": {},
   "outputs": [],
   "source": [
    "# Result is always a list of star class instances\n",
    "# Taking the first one as an example\n",
    "star = jam_sess.stars[0]"
   ]
  },
  {
   "cell_type": "code",
   "execution_count": 5,
   "metadata": {},
   "outputs": [
    {
     "name": "stdout",
     "output_type": "stream",
     "text": [
      "Burningham\n",
      "Sampling\n"
     ]
    }
   ],
   "source": [
    "# Do mode ID for one of the stars using the asymptotic method on 7 radial orders\n",
    "star.asymptotic_modeid(norders = 7)"
   ]
  },
  {
   "cell_type": "code",
   "execution_count": 6,
   "metadata": {},
   "outputs": [
    {
     "name": "stdout",
     "output_type": "stream",
     "text": [
      "    ell       nu_mu    nu_std\n",
      "0     2  157.465600  0.071548\n",
      "1     0  159.660055  0.066922\n",
      "2     2  174.085878  0.041260\n",
      "3     0  176.280952  0.035706\n",
      "4     2  190.820979  0.024986\n",
      "5     0  193.015060  0.018780\n",
      "6     2  207.669323  0.021639\n",
      "7     0  209.863649  0.017183\n",
      "8     2  224.630943  0.021521\n",
      "9     0  226.825526  0.018210\n",
      "10    2  241.706492  0.021991\n",
      "11    0  243.899746  0.018337\n",
      "12    2  258.895699  0.032396\n",
      "13    0  261.089794  0.028795\n"
     ]
    }
   ],
   "source": [
    "# Result is a dataframe\n",
    "print(star.asy_modeID)"
   ]
  },
  {
   "cell_type": "code",
   "execution_count": 7,
   "metadata": {},
   "outputs": [
    {
     "data": {
      "text/plain": [
       "(<Figure size 1152x648 with 1 Axes>,\n",
       " <matplotlib.axes._subplots.AxesSubplot at 0x7fc985519d68>)"
      ]
     },
     "execution_count": 7,
     "metadata": {},
     "output_type": "execute_result"
    },
    {
     "data": {
      "image/png": "[encoded data removed]",
      "text/plain": [
       "<Figure size 1152x648 with 1 Axes>"
      ]
     },
     "metadata": {
      "needs_background": "light"
     },
     "output_type": "display_data"
    }
   ],
   "source": [
    "star.plot_asyfit()"
   ]
  },
  {
   "cell_type": "code",
   "execution_count": 8,
   "metadata": {},
   "outputs": [],
   "source": [
    "# tgt = lk.search_lightcurvefile(target=kic, quarter=[5],)"
   ]
  },
  {
   "cell_type": "code",
   "execution_count": 9,
   "metadata": {},
   "outputs": [],
   "source": [
    "# tgt"
   ]
  },
  {
   "cell_type": "code",
   "execution_count": 10,
   "metadata": {},
   "outputs": [],
   "source": [
    "# lc_col = tgt.download_all()\n",
    "# print(lc_col)"
   ]
  },
  {
   "cell_type": "code",
   "execution_count": 11,
   "metadata": {},
   "outputs": [],
   "source": [
    "# for i,lc in enumerate(lc_col[1:]):\n",
    "#     print(i)"
   ]
  },
  {
   "cell_type": "code",
   "execution_count": 12,
   "metadata": {},
   "outputs": [],
   "source": [
    "# LC = np.array([]).reshape((0,2))\n",
    "# for i,lc in enumerate(lc_col):\n",
    "#     lc = lc.PDCSAP_FLUX.remove_nans().normalize().flatten().remove_outliers()\n",
    "#     c = np.array([lc.time,(lc.flux-1)*1e6]).T\n",
    "#     LC = np.concatenate((LC,c), axis = 0)"
   ]
  },
  {
   "cell_type": "code",
   "execution_count": 13,
   "metadata": {},
   "outputs": [],
   "source": [
    "# lc = lk.search_lightcurvefile(kic, quarter=1).download().PDCSAP_FLUX.normalize().flatten(window_length=401)\n",
    "# print(type(lc))\n",
    "# for q in range(2,8):\n",
    "#     lc0=lk.search_lightcurvefile(kic, quarter=q).download().PDCSAP_FLUX.normalize().flatten(window_length=401)\n",
    "#     lc = lc.append(lc0)"
   ]
  },
  {
   "cell_type": "code",
   "execution_count": 14,
   "metadata": {},
   "outputs": [],
   "source": [
    "# def clean_lc(lc):\n",
    "#     lc = lc.remove_nans().normalize().flatten().remove_outliers()\n",
    "#     lc.flux = (lc.flux-1)*1e6\n",
    "#     return lc \n",
    "\n",
    "# tgt = lk.search_lightcurvefile(target=kic)\n",
    "# lc_col = tgt.download_all()\n",
    "# lc0 = clean_lc(lc_col[0].PDCSAP_FLUX)\n",
    "# for i,lc in enumerate(lc_col[1:]):\n",
    "#     lc0 = lc0.append(clean_lc(lc.PDCSAP_FLUX))\n"
   ]
  },
  {
   "cell_type": "code",
   "execution_count": 15,
   "metadata": {},
   "outputs": [],
   "source": [
    "# from matplotlib.pyplot import *\n",
    "# figure()\n",
    "# plot(lc0.time,lc0.flux,'.')"
   ]
  },
  {
   "cell_type": "code",
   "execution_count": null,
   "metadata": {},
   "outputs": [],
   "source": [
    "    \n",
    "    "
   ]
  },
  {
   "cell_type": "code",
   "execution_count": null,
   "metadata": {},
   "outputs": [],
   "source": []
  },
  {
   "cell_type": "code",
   "execution_count": 16,
   "metadata": {},
   "outputs": [],
   "source": [
    "# lc.append(lc)"
   ]
  },
  {
   "cell_type": "code",
   "execution_count": null,
   "metadata": {},
   "outputs": [],
   "source": []
  }
 ],
 "metadata": {
  "kernelspec": {
   "display_name": "Python 3",
   "language": "python",
   "name": "python3"
  },
  "language_info": {
   "codemirror_mode": {
    "name": "ipython",
    "version": 3
   },
   "file_extension": ".py",
   "mimetype": "text/x-python",
   "name": "python",
   "nbconvert_exporter": "python",
   "pygments_lexer": "ipython3",
   "version": "3.7.3"
  }
 },
 "nbformat": 4,
 "nbformat_minor": 2
}
