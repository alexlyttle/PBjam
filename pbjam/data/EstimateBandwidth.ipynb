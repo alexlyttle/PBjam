{
 "cells": [
  {
   "cell_type": "markdown",
   "metadata": {},
   "source": [
    "# Estimate the required bandwidth\n",
    "\n",
    "We use global bandwidth parameters for the kde that builds PBjam's prior.  These parameters (hyperparameters) have to be estimated.  We use the cross validated maximum likelihood method detailed in statsmodels.\n",
    "\n",
    "## Read in the current data"
   ]
  },
  {
   "cell_type": "code",
   "execution_count": 1,
   "metadata": {},
   "outputs": [],
   "source": [
    "import pandas as pd"
   ]
  },
  {
   "cell_type": "code",
   "execution_count": 20,
   "metadata": {},
   "outputs": [
    {
     "name": "stdout",
     "output_type": "stream",
     "text": [
      "Index(['Unnamed: 0', 'dnu', 'numax', 'eps', 'd02', 'alpha', 'env_height',\n",
      "       'env_width', 'mode_width', 'teff', 'bp_rp'],\n",
      "      dtype='object')\n"
     ]
    },
    {
     "data": {
      "text/html": [
       "<div>\n",
       "<style scoped>\n",
       "    .dataframe tbody tr th:only-of-type {\n",
       "        vertical-align: middle;\n",
       "    }\n",
       "\n",
       "    .dataframe tbody tr th {\n",
       "        vertical-align: top;\n",
       "    }\n",
       "\n",
       "    .dataframe thead th {\n",
       "        text-align: right;\n",
       "    }\n",
       "</style>\n",
       "<table border=\"1\" class=\"dataframe\">\n",
       "  <thead>\n",
       "    <tr style=\"text-align: right;\">\n",
       "      <th></th>\n",
       "      <th>dnu</th>\n",
       "      <th>numax</th>\n",
       "      <th>eps</th>\n",
       "      <th>d02</th>\n",
       "      <th>alpha</th>\n",
       "      <th>env_height</th>\n",
       "      <th>env_width</th>\n",
       "      <th>mode_width</th>\n",
       "      <th>teff</th>\n",
       "      <th>bp_rp</th>\n",
       "    </tr>\n",
       "  </thead>\n",
       "  <tbody>\n",
       "    <tr>\n",
       "      <td>0</td>\n",
       "      <td>0.797313</td>\n",
       "      <td>1.849061</td>\n",
       "      <td>1.042422</td>\n",
       "      <td>-0.083138</td>\n",
       "      <td>-2.013106</td>\n",
       "      <td>1.117461</td>\n",
       "      <td>0.949266</td>\n",
       "      <td>-0.951869</td>\n",
       "      <td>3.692062</td>\n",
       "      <td>1.319325</td>\n",
       "    </tr>\n",
       "    <tr>\n",
       "      <td>10</td>\n",
       "      <td>0.812871</td>\n",
       "      <td>1.843217</td>\n",
       "      <td>1.091197</td>\n",
       "      <td>-0.082569</td>\n",
       "      <td>-1.861802</td>\n",
       "      <td>1.235369</td>\n",
       "      <td>0.963435</td>\n",
       "      <td>-0.946967</td>\n",
       "      <td>3.675889</td>\n",
       "      <td>1.303022</td>\n",
       "    </tr>\n",
       "    <tr>\n",
       "      <td>20</td>\n",
       "      <td>0.764260</td>\n",
       "      <td>1.770462</td>\n",
       "      <td>1.053193</td>\n",
       "      <td>-0.120213</td>\n",
       "      <td>-1.865080</td>\n",
       "      <td>0.973400</td>\n",
       "      <td>0.949144</td>\n",
       "      <td>-0.989072</td>\n",
       "      <td>3.661406</td>\n",
       "      <td>1.511999</td>\n",
       "    </tr>\n",
       "    <tr>\n",
       "      <td>30</td>\n",
       "      <td>0.575244</td>\n",
       "      <td>1.507558</td>\n",
       "      <td>0.788572</td>\n",
       "      <td>-0.237379</td>\n",
       "      <td>-1.621866</td>\n",
       "      <td>0.467686</td>\n",
       "      <td>0.764594</td>\n",
       "      <td>-0.939458</td>\n",
       "      <td>3.656849</td>\n",
       "      <td>1.478349</td>\n",
       "    </tr>\n",
       "    <tr>\n",
       "      <td>40</td>\n",
       "      <td>0.604475</td>\n",
       "      <td>1.553651</td>\n",
       "      <td>0.844009</td>\n",
       "      <td>-0.257307</td>\n",
       "      <td>-1.693514</td>\n",
       "      <td>0.544296</td>\n",
       "      <td>0.771394</td>\n",
       "      <td>-0.866120</td>\n",
       "      <td>3.680930</td>\n",
       "      <td>1.342483</td>\n",
       "    </tr>\n",
       "  </tbody>\n",
       "</table>\n",
       "</div>"
      ],
      "text/plain": [
       "         dnu     numax       eps       d02     alpha  env_height  env_width  \\\n",
       "0   0.797313  1.849061  1.042422 -0.083138 -2.013106    1.117461   0.949266   \n",
       "10  0.812871  1.843217  1.091197 -0.082569 -1.861802    1.235369   0.963435   \n",
       "20  0.764260  1.770462  1.053193 -0.120213 -1.865080    0.973400   0.949144   \n",
       "30  0.575244  1.507558  0.788572 -0.237379 -1.621866    0.467686   0.764594   \n",
       "40  0.604475  1.553651  0.844009 -0.257307 -1.693514    0.544296   0.771394   \n",
       "\n",
       "    mode_width      teff     bp_rp  \n",
       "0    -0.951869  3.692062  1.319325  \n",
       "10   -0.946967  3.675889  1.303022  \n",
       "20   -0.989072  3.661406  1.511999  \n",
       "30   -0.939458  3.656849  1.478349  \n",
       "40   -0.866120  3.680930  1.342483  "
      ]
     },
     "execution_count": 20,
     "metadata": {},
     "output_type": "execute_result"
    }
   ],
   "source": [
    "df_full = pd.read_csv('prior_data.csv')\n",
    "print(df_full.columns)\n",
    "df_full = df_full.drop(columns='Unnamed: 0')\n",
    "df = df_full[::10]\n",
    "df.head()"
   ]
  },
  {
   "cell_type": "code",
   "execution_count": 21,
   "metadata": {},
   "outputs": [
    {
     "name": "stdout",
     "output_type": "stream",
     "text": [
      "(1217, 10)\n"
     ]
    }
   ],
   "source": [
    "print(df.values.shape)"
   ]
  },
  {
   "cell_type": "markdown",
   "metadata": {},
   "source": [
    "## Set up the kde\n"
   ]
  },
  {
   "cell_type": "code",
   "execution_count": 22,
   "metadata": {},
   "outputs": [
    {
     "name": "stderr",
     "output_type": "stream",
     "text": [
      "/home/davies/.local/lib/python3.6/site-packages/statsmodels/nonparametric/kernel_density.py:161: RuntimeWarning: invalid value encountered in log\n",
      "  L += func(f_i)\n",
      "/home/davies/.local/lib/python3.6/site-packages/statsmodels/nonparametric/kernel_density.py:161: RuntimeWarning: divide by zero encountered in log\n",
      "  L += func(f_i)\n"
     ]
    }
   ],
   "source": [
    "import statsmodels.api as sm\n",
    "kde = sm.nonparametric.KDEMultivariate(data=df.values, \n",
    "                                      var_type='cccccccccc', \n",
    "                                      bw='cv_ml')"
   ]
  },
  {
   "cell_type": "markdown",
   "metadata": {},
   "source": [
    "## Display the optimal bandwidth"
   ]
  },
  {
   "cell_type": "code",
   "execution_count": 23,
   "metadata": {},
   "outputs": [
    {
     "name": "stdout",
     "output_type": "stream",
     "text": [
      "[0.0104277  0.0087742  0.03554314 0.02627906 0.11038797 0.63698899\n",
      " 0.03219839 0.06540209 0.0051097  0.08510194]\n"
     ]
    }
   ],
   "source": [
    "print(kde.bw)"
   ]
  },
  {
   "cell_type": "markdown",
   "metadata": {},
   "source": [
    "In the current PBjam setup, this bandwidth is hardcoded into the epsilon module.  You will need to replace the array with the new values manually if you want anything to change.\n",
    "\n",
    "It would be wise to inflate the bandwidth on mode height - a value of around 0.5 seems to give reasonable results."
   ]
  },
  {
   "cell_type": "code",
   "execution_count": null,
   "metadata": {},
   "outputs": [],
   "source": []
  }
 ],
 "metadata": {
  "kernelspec": {
   "display_name": "Python 3",
   "language": "python",
   "name": "python3"
  },
  "language_info": {
   "codemirror_mode": {
    "name": "ipython",
    "version": 3
   },
   "file_extension": ".py",
   "mimetype": "text/x-python",
   "name": "python",
   "nbconvert_exporter": "python",
   "pygments_lexer": "ipython3",
   "version": "3.6.8"
  }
 },
 "nbformat": 4,
 "nbformat_minor": 2
}
