{
 "cells": [
  {
   "cell_type": "markdown",
   "metadata": {},
   "source": [
    "# Estimate the required bandwidth\n",
    "\n",
    "We use global bandwidth parameters for the kde that builds PBjam's prior.  These parameters (hyperparameters) have to be estimated.  We use the cross validated maximum likelihood method detailed in statsmodels.\n",
    "\n",
    "## Read in the current data"
   ]
  },
  {
   "cell_type": "code",
   "execution_count": 1,
   "metadata": {},
   "outputs": [],
   "source": [
    "import pandas as pd"
   ]
  },
  {
   "cell_type": "code",
   "execution_count": 6,
   "metadata": {},
   "outputs": [
    {
     "data": {
      "text/html": [
       "<div>\n",
       "<style scoped>\n",
       "    .dataframe tbody tr th:only-of-type {\n",
       "        vertical-align: middle;\n",
       "    }\n",
       "\n",
       "    .dataframe tbody tr th {\n",
       "        vertical-align: top;\n",
       "    }\n",
       "\n",
       "    .dataframe thead th {\n",
       "        text-align: right;\n",
       "    }\n",
       "</style>\n",
       "<table border=\"1\" class=\"dataframe\">\n",
       "  <thead>\n",
       "    <tr style=\"text-align: right;\">\n",
       "      <th></th>\n",
       "      <th>dnu</th>\n",
       "      <th>numax</th>\n",
       "      <th>eps</th>\n",
       "      <th>d02</th>\n",
       "      <th>alpha</th>\n",
       "      <th>env_height</th>\n",
       "      <th>env_width</th>\n",
       "      <th>mode_width</th>\n",
       "      <th>teff</th>\n",
       "      <th>bp_rp</th>\n",
       "    </tr>\n",
       "  </thead>\n",
       "  <tbody>\n",
       "    <tr>\n",
       "      <th>0</th>\n",
       "      <td>0.797313</td>\n",
       "      <td>1.849061</td>\n",
       "      <td>1.042422</td>\n",
       "      <td>-0.083138</td>\n",
       "      <td>-2.013106</td>\n",
       "      <td>1.117461</td>\n",
       "      <td>0.949266</td>\n",
       "      <td>-0.951869</td>\n",
       "      <td>3.692062</td>\n",
       "      <td>1.319325</td>\n",
       "    </tr>\n",
       "    <tr>\n",
       "      <th>1</th>\n",
       "      <td>0.613473</td>\n",
       "      <td>1.621688</td>\n",
       "      <td>0.932101</td>\n",
       "      <td>-0.293549</td>\n",
       "      <td>-1.886150</td>\n",
       "      <td>0.891196</td>\n",
       "      <td>0.796977</td>\n",
       "      <td>-1.005161</td>\n",
       "      <td>3.677316</td>\n",
       "      <td>1.413556</td>\n",
       "    </tr>\n",
       "    <tr>\n",
       "      <th>2</th>\n",
       "      <td>0.559830</td>\n",
       "      <td>1.422844</td>\n",
       "      <td>0.831581</td>\n",
       "      <td>-0.242940</td>\n",
       "      <td>-1.465383</td>\n",
       "      <td>0.308770</td>\n",
       "      <td>0.689412</td>\n",
       "      <td>-0.851908</td>\n",
       "      <td>3.691585</td>\n",
       "      <td>1.330576</td>\n",
       "    </tr>\n",
       "    <tr>\n",
       "      <th>3</th>\n",
       "      <td>0.871902</td>\n",
       "      <td>1.971060</td>\n",
       "      <td>1.024286</td>\n",
       "      <td>-0.083248</td>\n",
       "      <td>-2.069506</td>\n",
       "      <td>0.749085</td>\n",
       "      <td>1.140958</td>\n",
       "      <td>-0.620151</td>\n",
       "      <td>3.703231</td>\n",
       "      <td>1.167095</td>\n",
       "    </tr>\n",
       "    <tr>\n",
       "      <th>4</th>\n",
       "      <td>0.574075</td>\n",
       "      <td>1.472324</td>\n",
       "      <td>0.759243</td>\n",
       "      <td>-0.220728</td>\n",
       "      <td>-2.064063</td>\n",
       "      <td>0.755530</td>\n",
       "      <td>0.589592</td>\n",
       "      <td>-1.139218</td>\n",
       "      <td>3.679067</td>\n",
       "      <td>1.404783</td>\n",
       "    </tr>\n",
       "  </tbody>\n",
       "</table>\n",
       "</div>"
      ],
      "text/plain": [
       "        dnu     numax       eps       d02     alpha  env_height  env_width  \\\n",
       "0  0.797313  1.849061  1.042422 -0.083138 -2.013106    1.117461   0.949266   \n",
       "1  0.613473  1.621688  0.932101 -0.293549 -1.886150    0.891196   0.796977   \n",
       "2  0.559830  1.422844  0.831581 -0.242940 -1.465383    0.308770   0.689412   \n",
       "3  0.871902  1.971060  1.024286 -0.083248 -2.069506    0.749085   1.140958   \n",
       "4  0.574075  1.472324  0.759243 -0.220728 -2.064063    0.755530   0.589592   \n",
       "\n",
       "   mode_width      teff     bp_rp  \n",
       "0   -0.951869  3.692062  1.319325  \n",
       "1   -1.005161  3.677316  1.413556  \n",
       "2   -0.851908  3.691585  1.330576  \n",
       "3   -0.620151  3.703231  1.167095  \n",
       "4   -1.139218  3.679067  1.404783  "
      ]
     },
     "execution_count": 6,
     "metadata": {},
     "output_type": "execute_result"
    }
   ],
   "source": [
    "df = pd.read_csv('prior_data.csv')\n",
    "df = df[:4000]\n",
    "df.head()"
   ]
  },
  {
   "cell_type": "markdown",
   "metadata": {},
   "source": [
    "## Set up the kde\n"
   ]
  },
  {
   "cell_type": "code",
   "execution_count": 7,
   "metadata": {},
   "outputs": [
    {
     "name": "stderr",
     "output_type": "stream",
     "text": [
      "/Users/davies/Library/Python/3.6/lib/python/site-packages/statsmodels/nonparametric/kernel_density.py:161: RuntimeWarning: invalid value encountered in log\n",
      "  L += func(f_i)\n",
      "/Users/davies/Library/Python/3.6/lib/python/site-packages/statsmodels/nonparametric/kernel_density.py:161: RuntimeWarning: divide by zero encountered in log\n",
      "  L += func(f_i)\n"
     ]
    }
   ],
   "source": [
    "import statsmodels.api as sm\n",
    "kde = sm.nonparametric.KDEMultivariate(data=df.values, \n",
    "                                      var_type='cccccccccc', \n",
    "                                      bw='cv_ml')"
   ]
  },
  {
   "cell_type": "markdown",
   "metadata": {},
   "source": [
    "## Display the optimal bandwidth"
   ]
  },
  {
   "cell_type": "code",
   "execution_count": 8,
   "metadata": {},
   "outputs": [
    {
     "name": "stdout",
     "output_type": "stream",
     "text": [
      "[0.00689525 0.01056505 0.03292463 0.01974437 0.24328234 0.21045721\n",
      " 0.03087197 0.18175542 0.00218407 0.02397543]\n"
     ]
    }
   ],
   "source": [
    "print(kde.bw)"
   ]
  },
  {
   "cell_type": "markdown",
   "metadata": {},
   "source": [
    "In the current PBjam setup, this bandwidth is hardcoded into the epsilon module.  You will need to replace the array with the new values manually if you want anything to change.\n",
    "\n",
    "It would be wise to inflate the bandwidth on mode height - a value of around 0.5 seems to give reasonable results."
   ]
  },
  {
   "cell_type": "code",
   "execution_count": null,
   "metadata": {},
   "outputs": [],
   "source": []
  }
 ],
 "metadata": {
  "kernelspec": {
   "display_name": "Python 3",
   "language": "python",
   "name": "python3"
  },
  "language_info": {
   "codemirror_mode": {
    "name": "ipython",
    "version": 3
   },
   "file_extension": ".py",
   "mimetype": "text/x-python",
   "name": "python",
   "nbconvert_exporter": "python",
   "pygments_lexer": "ipython3",
   "version": "3.6.4"
  }
 },
 "nbformat": 4,
 "nbformat_minor": 2
}
