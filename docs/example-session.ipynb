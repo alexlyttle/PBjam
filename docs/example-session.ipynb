{
 "cells": [
  {
   "cell_type": "markdown",
   "metadata": {},
   "source": [
    "# A quick-start guide to PBjam \n",
    "## Using the [session](https://pbjam.readthedocs.io/en/latest/jar.html#pbjam.jar.session) class\n",
    "\n",
    "PBjam is meant to be an easy to use, but also flexible, code for measuring the individual frequencies of solar-like oscillators. This process is broadly speaking broken down into two parts, the mode identification and the peakbagging steps. The [session](https://pbjam.readthedocs.io/en/latest/jar.html#pbjam.jar.session) class is a top-level wrapper and is meant to handle the full peakbagging process for the most part using the default settings in PBjam.\n",
    "\n",
    "In this tutorial we will just show you how to quickly start peakbagging your favorite stars using the [session](https://pbjam.readthedocs.io/en/latest/jar.html#pbjam.jar.session) class. For a detailed description of how PBjam does all this, see the [Advanced guide](https://pbjam.readthedocs.io/en/latest/example-advanced.html). \n",
    "\n",
    "### So lets do some peakbagging already!"
   ]
  },
  {
   "cell_type": "markdown",
   "metadata": {},
   "source": [
    "Ok then! Let's start by initializing the [session](https://pbjam.readthedocs.io/en/latest/jar.html#pbjam.jar.session) class, using a target ID and some physical parameters."
   ]
  },
  {
   "cell_type": "code",
   "execution_count": null,
   "metadata": {},
   "outputs": [],
   "source": [
    "import pbjam as pb\n",
    "sess = pb.session(ID='KIC4448777', \n",
    "                  numax=(220.0, 3.0), \n",
    "                  dnu=(16.97, 0.05), \n",
    "                  teff=(4750, 250), \n",
    "                  bp_rp=(1.34, 0.1), \n",
    "                  make_plots=True,\n",
    "                  path = './mydir')"
   ]
  },
  {
   "cell_type": "markdown",
   "metadata": {},
   "source": [
    "We then call the class instance to begin the actual peakbagging, here using 7 radial orders. \n",
    "\n",
    "**Warning:** The next step might take several minutes to run"
   ]
  },
  {
   "cell_type": "code",
   "execution_count": null,
   "metadata": {},
   "outputs": [],
   "source": [
    "sess(norders = 7)"
   ]
  },
  {
   "cell_type": "markdown",
   "metadata": {},
   "source": [
    "And that's it!"
   ]
  },
  {
   "cell_type": "markdown",
   "metadata": {},
   "source": [
    "### What's actually going on here?\n",
    "To peakbag a star PBjam needs relatively few input values. In the simplest case it just needs the name of the target, to look up the lightcurve on the [MAST](https://archive.stsci.edu/) server using [LightKurve](https://docs.lightkurve.org/), and a few physical parameters: \n",
    "- The frequency of maximum oscillation power ($\\nu_{max}$), \n",
    "- the large frequency separation ($\\Delta \\nu$), \n",
    "- the effective surface temperature ($T_{\\mathrm{eff}}$), \n",
    "- the Gaia $B_p-R_p$ color, \n",
    "- and the error estimates of the above.\n",
    "\n",
    "Some of these parameters may not be necessary in future versions, as they can and should be infered from the timeseries and others can be looked up online, but for now PBjam isn't smart enough to do that for you.\n",
    "\n",
    "Based on these inputs alone, PBjam will:\n",
    "1. Download the light curve from [MAST](https://archive.stsci.edu/), \n",
    "2. Perform the mode ID by fitting the asymptotic relation to the power spectrum, using a [KDE](https://www.statsmodels.org/stable/generated/statsmodels.nonparametric.kernel_density.KDEMultivariate.html#statsmodels.nonparametric.kernel_density.KDEMultivariate) of previous values from Kepler as a prior. Here the sampling is done using using [emcee](https://emcee.readthedocs.io/en/latest/).\n",
    "3. Perform the peakbagging using the [pymc3](https://docs.pymc.io/) HMC sampler, but without the to many priors. \n",
    "4. Output the results for each star in a separate directory"
   ]
  },
  {
   "cell_type": "markdown",
   "metadata": {},
   "source": [
    "## Peakbagging multiple stars\n",
    "The [session](https://pbjam.readthedocs.io/en/latest/jar.html#pbjam.jar.session) class can easily handle multiple targets. This can be done by providing lists of the above input values for each of the stars you want to peakbag: "
   ]
  },
  {
   "cell_type": "code",
   "execution_count": null,
   "metadata": {},
   "outputs": [],
   "source": [
    "multi_sess = pb.session(ID=['KIC4448777', 'KIC2307683'], \n",
    "                        numax=[(220.0, 3.0), (39.95, 0.51)], \n",
    "                        dnu=[(16.97, 0.05), (4.31, 0.01)], \n",
    "                        teff=[(4750, 250), (4799, 100)], \n",
    "                        bp_rp=[(1.34, 0.1), (1.37, 0.01)], \n",
    "                        make_plots=True)"
   ]
  },
  {
   "cell_type": "markdown",
   "metadata": {},
   "source": [
    "### Peakbagging many stars from a csv\n",
    "Alternatively you can also just throw everything into a csv file."
   ]
  },
  {
   "cell_type": "code",
   "execution_count": null,
   "metadata": {},
   "outputs": [],
   "source": [
    "sess = pb.session(dictlike='mytgts.csv')"
   ]
  },
  {
   "cell_type": "markdown",
   "metadata": {},
   "source": [
    "Here you can either just give PBjam the path to the csv file, or load the csv manually as a [pandas dataframe](https://pandas.pydata.org/pandas-docs/stable/reference/api/pandas.DataFrame.html) or Python dictionary. \n",
    "\n",
    "**Note:** You must have a specific set of keywords in the dictionary/dataframe/csv file, shown below"
   ]
  },
  {
   "cell_type": "code",
   "execution_count": 3,
   "metadata": {},
   "outputs": [
    {
     "data": {
      "text/html": [
       "<div>\n",
       "<style scoped>\n",
       "    .dataframe tbody tr th:only-of-type {\n",
       "        vertical-align: middle;\n",
       "    }\n",
       "\n",
       "    .dataframe tbody tr th {\n",
       "        vertical-align: top;\n",
       "    }\n",
       "\n",
       "    .dataframe thead th {\n",
       "        text-align: right;\n",
       "    }\n",
       "</style>\n",
       "<table border=\"1\" class=\"dataframe\">\n",
       "  <thead>\n",
       "    <tr style=\"text-align: right;\">\n",
       "      <th></th>\n",
       "      <th>ID</th>\n",
       "      <th>dnu</th>\n",
       "      <th>dnu_err</th>\n",
       "      <th>numax</th>\n",
       "      <th>numax_err</th>\n",
       "      <th>teff</th>\n",
       "      <th>teff_err</th>\n",
       "      <th>bp_rp</th>\n",
       "      <th>bp_rp_err</th>\n",
       "    </tr>\n",
       "  </thead>\n",
       "  <tbody>\n",
       "    <tr>\n",
       "      <th>0</th>\n",
       "      <td>1433593</td>\n",
       "      <td>6.241</td>\n",
       "      <td>0.013</td>\n",
       "      <td>69.14</td>\n",
       "      <td>0.59</td>\n",
       "      <td>4956</td>\n",
       "      <td>100</td>\n",
       "      <td>1.327025</td>\n",
       "      <td>0.05</td>\n",
       "    </tr>\n",
       "    <tr>\n",
       "      <th>1</th>\n",
       "      <td>1433730</td>\n",
       "      <td>4.085</td>\n",
       "      <td>0.019</td>\n",
       "      <td>40.37</td>\n",
       "      <td>0.54</td>\n",
       "      <td>4767</td>\n",
       "      <td>100</td>\n",
       "      <td>1.424954</td>\n",
       "      <td>0.05</td>\n",
       "    </tr>\n",
       "    <tr>\n",
       "      <th>2</th>\n",
       "      <td>2018392</td>\n",
       "      <td>3.795</td>\n",
       "      <td>0.013</td>\n",
       "      <td>33.92</td>\n",
       "      <td>0.55</td>\n",
       "      <td>4908</td>\n",
       "      <td>100</td>\n",
       "      <td>1.417112</td>\n",
       "      <td>0.05</td>\n",
       "    </tr>\n",
       "    <tr>\n",
       "      <th>3</th>\n",
       "      <td>2140446</td>\n",
       "      <td>5.673</td>\n",
       "      <td>0.012</td>\n",
       "      <td>57.60</td>\n",
       "      <td>0.56</td>\n",
       "      <td>4665</td>\n",
       "      <td>100</td>\n",
       "      <td>1.446697</td>\n",
       "      <td>0.05</td>\n",
       "    </tr>\n",
       "    <tr>\n",
       "      <th>4</th>\n",
       "      <td>2307683</td>\n",
       "      <td>4.309</td>\n",
       "      <td>0.012</td>\n",
       "      <td>39.95</td>\n",
       "      <td>0.51</td>\n",
       "      <td>4799</td>\n",
       "      <td>100</td>\n",
       "      <td>1.369279</td>\n",
       "      <td>0.05</td>\n",
       "    </tr>\n",
       "  </tbody>\n",
       "</table>\n",
       "</div>"
      ],
      "text/plain": [
       "        ID    dnu  dnu_err  numax  numax_err  teff  teff_err     bp_rp  \\\n",
       "0  1433593  6.241    0.013  69.14       0.59  4956       100  1.327025   \n",
       "1  1433730  4.085    0.019  40.37       0.54  4767       100  1.424954   \n",
       "2  2018392  3.795    0.013  33.92       0.55  4908       100  1.417112   \n",
       "3  2140446  5.673    0.012  57.60       0.56  4665       100  1.446697   \n",
       "4  2307683  4.309    0.012  39.95       0.51  4799       100  1.369279   \n",
       "\n",
       "   bp_rp_err  \n",
       "0       0.05  \n",
       "1       0.05  \n",
       "2       0.05  \n",
       "3       0.05  \n",
       "4       0.05  "
      ]
     },
     "execution_count": 3,
     "metadata": {},
     "output_type": "execute_result"
    }
   ],
   "source": [
    "import pandas as pd\n",
    "df = pd.read_csv('mytgts.csv')\n",
    "df.head()"
   ]
  },
  {
   "cell_type": "markdown",
   "metadata": {},
   "source": [
    "## Would you like to know more?\n",
    "Read the API for the [session](https://pbjam.readthedocs.io/en/latest/jar.html#pbjam.jar.session) class and check out the [other tutorials](https://pbjam.readthedocs.io/en/latest/usage.html)."
   ]
  },
  {
   "cell_type": "code",
   "execution_count": null,
   "metadata": {},
   "outputs": [],
   "source": []
  }
 ],
 "metadata": {
  "kernelspec": {
   "display_name": "Python 3",
   "language": "python",
   "name": "python3"
  },
  "language_info": {
   "codemirror_mode": {
    "name": "ipython",
    "version": 3
   },
   "file_extension": ".py",
   "mimetype": "text/x-python",
   "name": "python",
   "nbconvert_exporter": "python",
   "pygments_lexer": "ipython3",
   "version": "3.6.4"
  }
 },
 "nbformat": 4,
 "nbformat_minor": 2
}
